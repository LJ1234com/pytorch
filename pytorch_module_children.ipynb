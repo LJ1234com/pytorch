{
 "cells": [
  {
   "cell_type": "code",
   "execution_count": 12,
   "metadata": {},
   "outputs": [
    {
     "name": "stdout",
     "output_type": "stream",
     "text": [
      "-----------------------children-----------------------\n",
      "0 Sequential(\n",
      "  (0): Linear(in_features=1, out_features=1, bias=True)\n",
      "  (1): ReLU(inplace=True)\n",
      ")\n",
      "1 Sequential(\n",
      "  (0): Linear(in_features=1, out_features=1, bias=True)\n",
      "  (1): ReLU(inplace=True)\n",
      ")\n",
      "2 Linear(in_features=1, out_features=1, bias=True)\n",
      "\n",
      "-----------------------module-----------------------\n",
      "0 Net(\n",
      "  (layer1): Sequential(\n",
      "    (0): Linear(in_features=1, out_features=1, bias=True)\n",
      "    (1): ReLU(inplace=True)\n",
      "  )\n",
      "  (layer2): Sequential(\n",
      "    (0): Linear(in_features=1, out_features=1, bias=True)\n",
      "    (1): ReLU(inplace=True)\n",
      "  )\n",
      "  (layer3): Linear(in_features=1, out_features=1, bias=True)\n",
      ")\n",
      "1 Sequential(\n",
      "  (0): Linear(in_features=1, out_features=1, bias=True)\n",
      "  (1): ReLU(inplace=True)\n",
      ")\n",
      "2 Linear(in_features=1, out_features=1, bias=True)\n",
      "3 ReLU(inplace=True)\n",
      "4 Sequential(\n",
      "  (0): Linear(in_features=1, out_features=1, bias=True)\n",
      "  (1): ReLU(inplace=True)\n",
      ")\n",
      "5 Linear(in_features=1, out_features=1, bias=True)\n",
      "6 ReLU(inplace=True)\n",
      "7 Linear(in_features=1, out_features=1, bias=True)\n"
     ]
    },
    {
     "data": {
      "text/plain": [
       "Net(\n",
       "  (layer1): Sequential(\n",
       "    (0): Linear(in_features=1, out_features=1, bias=True)\n",
       "    (1): ReLU(inplace=True)\n",
       "  )\n",
       "  (layer2): Sequential(\n",
       "    (0): Linear(in_features=1, out_features=1, bias=True)\n",
       "    (1): ReLU(inplace=True)\n",
       "  )\n",
       "  (layer3): Linear(in_features=1, out_features=1, bias=True)\n",
       ")"
      ]
     },
     "execution_count": 12,
     "metadata": {},
     "output_type": "execute_result"
    }
   ],
   "source": [
    "import torch\n",
    "from torch import nn\n",
    "\n",
    "# hyper parameters\n",
    "in_dim=1\n",
    "n_hidden_1=1\n",
    "n_hidden_2=1\n",
    "out_dim=1\n",
    "\n",
    "class Net(nn.Module):\n",
    "    def __init__(self, in_dim, n_hidden_1, n_hidden_2, out_dim):\n",
    "        super().__init__()\n",
    "        self.layer1 = nn.Sequential(\n",
    "                nn.Linear(in_dim, n_hidden_1), \n",
    "                nn.ReLU(True)\n",
    "             )\n",
    "        self.layer2 = nn.Sequential(\n",
    "                nn.Linear(n_hidden_1, n_hidden_2),\n",
    "                nn.ReLU(True),\n",
    "            )\n",
    "        self.layer3 = nn.Linear(n_hidden_2, out_dim)\n",
    "        \n",
    "        print(\"-----------------------children-----------------------\")\n",
    "        for i, child in enumerate( self.children()):\n",
    "            print(i, child)\n",
    "        \n",
    "        print('\\n-----------------------module-----------------------')    \n",
    "        for i, module in enumerate( self.modules()):\n",
    "            print(i, module)\n",
    "   \n",
    "    def forward(self, x):\n",
    "        pass\n",
    "       \n",
    "model = Net(in_dim, n_hidden_1, n_hidden_2, out_dim)\n",
    "model"
   ]
  },
  {
   "cell_type": "markdown",
   "metadata": {},
   "source": [
    "## Reference  \n",
    "https://blog.csdn.net/dss_dssssd/article/details/83958518"
   ]
  }
 ],
 "metadata": {
  "kernelspec": {
   "display_name": "Python3 tmp.py",
   "language": "python",
   "name": "tmp.py"
  },
  "language_info": {
   "codemirror_mode": {
    "name": "ipython",
    "version": 3
   },
   "file_extension": ".py",
   "mimetype": "text/x-python",
   "name": "python",
   "nbconvert_exporter": "python",
   "pygments_lexer": "ipython3",
   "version": "3.7.4"
  }
 },
 "nbformat": 4,
 "nbformat_minor": 2
}
