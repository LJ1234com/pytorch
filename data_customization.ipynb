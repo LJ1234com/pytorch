{
 "cells": [
  {
   "cell_type": "markdown",
   "metadata": {},
   "source": [
    "## 1. torchvision自带数据集"
   ]
  },
  {
   "cell_type": "code",
   "execution_count": 8,
   "metadata": {},
   "outputs": [],
   "source": [
    "from torchvision import transforms, datasets\n",
    "from torch.utils import data"
   ]
  },
  {
   "cell_type": "code",
   "execution_count": 9,
   "metadata": {},
   "outputs": [],
   "source": [
    "transform = transforms.Compose([transforms.RandomResizedCrop(224),\n",
    "                                transforms.RandomHorizontalFlip(),\n",
    "                                transforms.ToTensor(),\n",
    "                                transforms.Normalize(mean=[0.485, 0.456, 0.406], std=[0.229, 0.224, 0.225])\n",
    "                               ])\n",
    "\n",
    "\n",
    "\n"
   ]
  },
  {
   "cell_type": "code",
   "execution_count": 10,
   "metadata": {},
   "outputs": [],
   "source": [
    "src = '../../study/data/cifar'\n",
    "train = datasets.CIFAR10(root=src, train=True, download=False, transform=transform)\n",
    "test = datasets.CIFAR10(root=src, train=False, download=False, transform=transform)"
   ]
  },
  {
   "cell_type": "code",
   "execution_count": 11,
   "metadata": {},
   "outputs": [],
   "source": [
    "batch_size = 32\n",
    "train_loader = data.DataLoader(train, batch_size=batch_size, shuffle=True)\n",
    "test_loader = data.DataLoader(test, batch_size=batch_size, shuffle=False)"
   ]
  },
  {
   "cell_type": "markdown",
   "metadata": {},
   "source": [
    "## 2. ImageFolder读取本地数据"
   ]
  },
  {
   "cell_type": "code",
   "execution_count": 24,
   "metadata": {},
   "outputs": [],
   "source": [
    "from torchvision import transforms, datasets\n",
    "from torch.utils import data"
   ]
  },
  {
   "cell_type": "code",
   "execution_count": 25,
   "metadata": {},
   "outputs": [],
   "source": [
    "transform = {\n",
    "    # Train uses data augmentation\n",
    "    'train': transforms.Compose([\n",
    "                transforms.RandomResizedCrop(size=256, scale=(0.8, 1.0)),\n",
    "                transforms.RandomRotation(degrees=15),\n",
    "                transforms.ColorJitter(),\n",
    "                transforms.RandomHorizontalFlip(),\n",
    "                transforms.CenterCrop(size=224),  # Image net standards\n",
    "                transforms.ToTensor(),\n",
    "                transforms.Normalize([0.485, 0.456, 0.406], [0.229, 0.224, 0.225])  # Imagenet standards\n",
    "              ]),\n",
    "    # Validation does not use augmentation\n",
    "    'valid': transforms.Compose([\n",
    "                 transforms.Resize(size=256),\n",
    "                 transforms.CenterCrop(size=224),\n",
    "                 transforms.ToTensor(),\n",
    "                 transforms.Normalize([0.485, 0.456, 0.406], [0.229, 0.224, 0.225])\n",
    "            ]),\n",
    "\n",
    "    'test': transforms.Compose([\n",
    "                 transforms.Resize(size=256),\n",
    "                 transforms.CenterCrop(size=224),\n",
    "                 transforms.ToTensor(),\n",
    "                 transforms.Normalize([0.485, 0.456, 0.406], [0.229, 0.224, 0.225])\n",
    "            ]),\n",
    "  }"
   ]
  },
  {
   "cell_type": "code",
   "execution_count": 26,
   "metadata": {},
   "outputs": [],
   "source": [
    "src = '../../study/data/caltech101/data'\n",
    "img_data = {\n",
    "        'train': datasets.ImageFolder(src+'/train', transform=transform['train']),\n",
    "        'valid': datasets.ImageFolder(src+'/valid', transform=transform['valid']),\n",
    "        'test': datasets.ImageFolder(src+'/test', transform=transform['test'])\n",
    "       }"
   ]
  },
  {
   "cell_type": "code",
   "execution_count": 27,
   "metadata": {},
   "outputs": [],
   "source": [
    "batch_size = 32\n",
    "loader = {\n",
    "         'train': data.DataLoader(img_data['train'], batch_size=batch_size, shuffle=True),\n",
    "         'valid':data.DataLoader(img_data['valid'], batch_size=batch_size, shuffle=False),\n",
    "         'test':data.DataLoader(img_data['test'], batch_size=batch_size, shuffle=False)\n",
    "        }"
   ]
  },
  {
   "cell_type": "markdown",
   "metadata": {},
   "source": [
    "## 3. 自定义数据"
   ]
  },
  {
   "cell_type": "code",
   "execution_count": 33,
   "metadata": {},
   "outputs": [],
   "source": [
    "import torch\n",
    "from torch.utils.data import Dataset, DataLoader"
   ]
  },
  {
   "cell_type": "code",
   "execution_count": 34,
   "metadata": {},
   "outputs": [],
   "source": [
    "class Mydata(Dataset):\n",
    "    def __init__(self, x, y):\n",
    "        self.x = x\n",
    "        self.y = y\n",
    "\n",
    "    def __getitem__(self, index):\n",
    "        return self.x[index], self.y[index]\n",
    "\n",
    "    def __len__(self):\n",
    "        return self.x.shape[0]  #self.x.size(0)"
   ]
  },
  {
   "cell_type": "code",
   "execution_count": 38,
   "metadata": {},
   "outputs": [
    {
     "name": "stdout",
     "output_type": "stream",
     "text": [
      "tensor([[0, 1],\n",
      "        [2, 3],\n",
      "        [4, 5],\n",
      "        [6, 7],\n",
      "        [8, 9]])\n",
      "tensor([0, 1, 2, 3, 4])\n",
      "tensor([[2, 3],\n",
      "        [6, 7]]) tensor([1, 3])\n",
      "tensor([[0, 1],\n",
      "        [8, 9]]) tensor([0, 4])\n",
      "tensor([[4, 5]]) tensor([2])\n"
     ]
    }
   ],
   "source": [
    "x = torch.arange(10).view((5, 2))\n",
    "y = torch.arange(5)\n",
    "print(x)\n",
    "print(y)\n",
    "\n",
    "data = Mydata(x, y)\n",
    "data_loader = DataLoader(data,\n",
    "                             batch_size=2,\n",
    "                             shuffle=True,\n",
    "                             num_workers=0\n",
    "                             )\n",
    "for x, y in data_loader:\n",
    "    print(x, y)"
   ]
  },
  {
   "cell_type": "code",
   "execution_count": null,
   "metadata": {},
   "outputs": [],
   "source": []
  },
  {
   "cell_type": "code",
   "execution_count": null,
   "metadata": {},
   "outputs": [],
   "source": []
  }
 ],
 "metadata": {
  "kernelspec": {
   "display_name": "Python3 tmp.py",
   "language": "python",
   "name": "tmp.py"
  },
  "language_info": {
   "codemirror_mode": {
    "name": "ipython",
    "version": 3
   },
   "file_extension": ".py",
   "mimetype": "text/x-python",
   "name": "python",
   "nbconvert_exporter": "python",
   "pygments_lexer": "ipython3",
   "version": "3.7.4"
  }
 },
 "nbformat": 4,
 "nbformat_minor": 2
}
